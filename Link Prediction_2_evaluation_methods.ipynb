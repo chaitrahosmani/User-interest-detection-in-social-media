{
 "cells": [
  {
   "cell_type": "markdown",
   "metadata": {},
   "source": [
    "# MAP and nDCG"
   ]
  },
  {
   "cell_type": "code",
   "execution_count": 82,
   "metadata": {},
   "outputs": [],
   "source": [
    "import numpy as np\n",
    "import pandas as pd\n",
    "import ml_metrics "
   ]
  },
  {
   "cell_type": "markdown",
   "metadata": {},
   "source": [
    " <h3> Part A - Extract top_n ground truth - One time execution </h3>\n",
    "<br> 1. Read the file which has userId, TopicId, Weight\n",
    "<br> 2. sort and extract top_n topics for each user"
   ]
  },
  {
   "cell_type": "code",
   "execution_count": 86,
   "metadata": {},
   "outputs": [],
   "source": [
    "#one time execution\n",
    "#change the file location accordingly\n",
    "topk = 10\n",
    "file_location = \"../1_Data_UserId_100/day31.txt\"\n",
    "a,b,c = file_location.split('/')\n",
    "destination_location = '../101_Extracted_GT/' + c\n",
    "\n",
    "names=['UserId', 'TopicId', 'Weight']\n",
    "data = pd.read_csv(file_location, sep='\\t', names=names)\n",
    "\n",
    "userlist=np.arange(100, 2558,1)\n",
    "final_gt = []\n",
    "\n",
    "#delete the data if file \"groundtruth\" already exists\n",
    "open(destination_location, 'w').close()\n",
    "#for each user writes the top k topics\n",
    "for uid in userlist:\n",
    "    gt = data[data['UserId'] == uid]\n",
    "    if(len(gt)>0):\n",
    "        gt = gt.sort_values(['Weight', 'TopicId'],ascending=[False, True])\n",
    "        gt = gt.iloc[0:topk,:]\n",
    "        gt.to_csv(destination_location, encoding='utf-8', index=False, sep='\\t', mode='a', header=False)"
   ]
  },
  {
   "cell_type": "markdown",
   "metadata": {},
   "source": [
    "# Calculate nDCG function"
   ]
  },
  {
   "cell_type": "code",
   "execution_count": 12,
   "metadata": {},
   "outputs": [],
   "source": [
    "\"\"\"\n",
    "Input:\n",
    "gt is ground truth topics - a single list\n",
    "pred is predicted topics - a single list\n",
    "Output: returns array of 1s and 0s if predicted is right(1) or wrong(0) compared to ground truth\n",
    "\"\"\"\n",
    "def convert_relavant_nonrelavant(gt,pred):\n",
    "    binary_relavant=np.repeat(0,len(pred))\n",
    "    for i in range(len(pred)):\n",
    "        for j in range(len(gt)):\n",
    "            if(pred[i] == gt[j]):\n",
    "                binary_relavant[i]=1\n",
    "    return(binary_relavant)\n",
    "\n",
    "# print(\"convert_relavant_nonrelavant: \",convert_relavant_nonrelavant([5,10,15,20,25],[42,25,5,8,10]))\n",
    "\n",
    "\"\"\"\n",
    "Input:\n",
    "list1 is ground truth topics - a single list\n",
    "list2 is predicted topics - a single list\n",
    "Output: returns calculated DCG value for all elements in the predicted list\n",
    "\"\"\"\n",
    "\n",
    "def calculate_dcg(list1, list2):\n",
    "    #convert into binary_relavant topic or non-relavant topic\n",
    "    relavant = convert_relavant_nonrelavant(list1, list2)\n",
    "    p = len(relavant)\n",
    "    log2i = np.log2(np.asarray(range(1, p + 1)) + 1)\n",
    "  #  print(\"log2i\",log2i)\n",
    "  #  print(\"array\",(np.power(2, rel) - 1) / log2i)\n",
    "    return ((np.power(2, relavant) - 1) / log2i).sum()\n",
    "    \n",
    "#calculate_dcg(gt, pre)\n",
    "# print(\"calculate_dcg: \",calculate_dcg([5,10,15,20,25],[42,25,5,8,10]))\n",
    "\n",
    "\"\"\"\n",
    "Input:\n",
    "list1 is ground truth topics - a single list\n",
    "Output: returns ideal value for DCG\n",
    "\"\"\"\n",
    "# Question: while calculating the iDCG, ideal I am considering all the top 5 topics are relavant\n",
    "# what happens when some weights are equal\n",
    "# Assumption: all the top 5 ground truth is considered as relavant\n",
    "def calculate_IDCG(list1):\n",
    "    rel = np.repeat(1, len(list1))\n",
    "    p = len(rel)\n",
    "    log2i = np.log2(np.asarray(range(1, p + 1)) + 1)\n",
    "    #print(\"log2i\",log2i)\n",
    "    #print(\"array\",(np.power(2, rel) - 1) / log2i)\n",
    "    return ((np.power(2, rel) - 1) / log2i).sum()\n",
    "\n",
    "# print(\"calculate_IDCG: \",calculate_IDCG([5,10,15,20,25]))\n",
    "\n",
    "\n",
    "def nDCG(list1, list2):\n",
    "    return(calculate_dcg(list1, list2)/calculate_IDCG(list1))\n",
    "\n",
    "# print(\"nDCG---> \",nDCG([5,10,15,20,25],[42,25,5,8,10]))"
   ]
  },
  {
   "cell_type": "markdown",
   "metadata": {},
   "source": [
    "<h3> Compare groundtruth and predicted</h3>\n",
    "<br> STEP - PART B - Extract top_n predicted values\n",
    "<br> 1. read ground truth and read predicted files\n",
    "<br> 2. Prep the data for comparion\n",
    "<br> Use different methods to compare"
   ]
  },
  {
   "cell_type": "code",
   "execution_count": 104,
   "metadata": {},
   "outputs": [
    {
     "name": "stdout",
     "output_type": "stream",
     "text": [
      "[ 100  101  102 ... 2555 2556 2557]\n",
      "Ground truth is available for  2044  users\n",
      "Groundtruth\n",
      "UserId\n",
      "100       [8, 20, 86, 42, 48, 13, 82, 0, 1, 2]\n",
      "101        [89, 20, 50, 69, 8, 22, 0, 1, 2, 3]\n",
      "102    [29, 53, 68, 64, 35, 41, 57, 76, 82, 0]\n",
      "103            [91, 0, 1, 2, 3, 4, 5, 6, 7, 8]\n",
      "104         [52, 7, 50, 27, 80, 0, 1, 2, 3, 4]\n",
      "Name: TopicId, dtype: object\n",
      "\n",
      " Predictions available for  2458  users\n",
      "Predicted\n",
      "UserId\n",
      "100    [54, 45, 13, 94, 52, 33, 62, 89, 87, 44]\n",
      "101    [35, 41, 10, 11, 46, 52, 57, 89, 66, 28]\n",
      "102     [19, 75, 8, 76, 28, 89, 44, 81, 87, 53]\n",
      "103     [77, 57, 83, 59, 63, 16, 79, 28, 1, 91]\n",
      "104     [48, 71, 67, 93, 6, 66, 24, 37, 52, 87]\n",
      "Name: TopicId, dtype: object\n"
     ]
    }
   ],
   "source": [
    "topk=5\n",
    "gt_file = '../101_Extracted_GT/day61.txt'\n",
    "#please keep the format as is\n",
    "# Zmatrix59 is for day60\n",
    "pred_file = 'Z_all_t4_c20_exp1/predicted.csv'\n",
    "\n",
    "# 1. extract groundtruth file---------------------------------------------------\n",
    "names=['UserId', 'TopicId', 'Weight']\n",
    "groundtruth = pd.read_csv(gt_file, sep='\\t',names=names) \n",
    "#print(groundtruth)\n",
    "#extract only userid\n",
    "gt_userlist = pd.unique(groundtruth['UserId'])\n",
    "print(gt_userlist)\n",
    "print(\"Ground truth is available for \",len(gt_userlist),\" users\")\n",
    "#drop weight and group by UserId\n",
    "groundtruth = groundtruth.drop(columns=['Weight'])\n",
    "groundtruth = groundtruth.groupby('UserId')['TopicId'].apply(list)\n",
    "print(\"Groundtruth\")\n",
    "print(groundtruth.head())\n",
    "\n",
    "#2. import predicted interests---------------------------------------------------------------\n",
    "names=['UserId', 'TopicId', 'Weight']\n",
    "pi = pd.read_csv(pred_file, sep='\\t',names=names) \n",
    "\n",
    "#drop weight and group by UserId\n",
    "pi=pi.drop(columns=['Weight'])\n",
    "predicted_list = pi.groupby('UserId')['TopicId'].apply(list)\n",
    "print(\"\\n Predictions available for \",len(predicted_list),\" users\")\n",
    "predicted_list.columns=['UserId', 'TopicId']\n",
    "\n",
    "#3. remove users from Predicted interests where ground truth is not available in ground truth----\n",
    "Filtered_predicted  = predicted_list[predicted_list.index.isin(gt_userlist)]\n",
    "print(\"Predicted\")\n",
    "print(Filtered_predicted.head())\n",
    "\n"
   ]
  },
  {
   "cell_type": "markdown",
   "metadata": {},
   "source": [
    "# Call different the evaluating functions"
   ]
  },
  {
   "cell_type": "code",
   "execution_count": 105,
   "metadata": {},
   "outputs": [
    {
     "name": "stdout",
     "output_type": "stream",
     "text": [
      "\n",
      "MAP using in built function:\n",
      "0.047426614481409\n",
      "\n",
      "\n",
      "nDCG:  0.10190536214927012\n"
     ]
    }
   ],
   "source": [
    "#4. call MAP function\n",
    "print(\"\\nMAP using in built function:\")\n",
    "print(ml_metrics.mapk(groundtruth,Filtered_predicted , topk))\n",
    "\n",
    "#5 Call nDCG function\n",
    "#zip gt and predicted\n",
    "tuple_list = list(zip(groundtruth,Filtered_predicted))\n",
    "#print(tuple_list)\n",
    "total=0.0\n",
    "count=len(gt_userlist)\n",
    "for i in range(len(tuple_list)):\n",
    "    nDCG_val= nDCG(tuple_list[i][0], tuple_list[i][1])\n",
    "#    print(\"i is\",i , \" and nDCG is \", nDCG_val)\n",
    "    total=total+ nDCG_val\n",
    "final_nDCG = total/count\n",
    "print(\"\\n\\nnDCG: \",final_nDCG)\n"
   ]
  },
  {
   "cell_type": "code",
   "execution_count": null,
   "metadata": {},
   "outputs": [],
   "source": [
    "#True_positive=I predicted  3, top5 has 3\n",
    "# False positive: I predicted 3, but top5 does not have any 3\n",
    "#False negative: top5 has 3, but did not predict 3\n",
    "#True negative:"
   ]
  },
  {
   "cell_type": "code",
   "execution_count": null,
   "metadata": {},
   "outputs": [],
   "source": [
    " result:#day1_t1_c50\n",
    "<br> 0.1986483134920635"
   ]
  }
 ],
 "metadata": {
  "kernelspec": {
   "display_name": "Python 3",
   "language": "python",
   "name": "python3"
  },
  "language_info": {
   "codemirror_mode": {
    "name": "ipython",
    "version": 3
   },
   "file_extension": ".py",
   "mimetype": "text/x-python",
   "name": "python",
   "nbconvert_exporter": "python",
   "pygments_lexer": "ipython3",
   "version": "3.6.5"
  }
 },
 "nbformat": 4,
 "nbformat_minor": 2
}
